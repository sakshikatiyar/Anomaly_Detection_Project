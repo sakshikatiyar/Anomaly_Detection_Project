{
 "cells": [
  {
   "cell_type": "markdown",
   "id": "a2b8c4da-65c6-4bea-a112-183d7967bf9e",
   "metadata": {},
   "source": [
    " # Anomaly Detection in Access Logs"
   ]
  },
  {
   "cell_type": "raw",
   "id": "ecaee651-c8de-4b5e-a62d-f422582458fd",
   "metadata": {},
   "source": [
    "What Is This Project About?\n",
    "\n",
    "This project is about detecting unusual or suspicious activities from a system's access logs. These logs track things like:\n",
    "Who accessed the system (IP address)\n",
    "What action they performed (login, download, etc.)\n",
    "When it happened (timestamp)\n",
    "Whether it was successful or blocked (status code)\n",
    "In large systems (like cloud services, websites, banks, or hospitals), millions of access records are generated daily. Manually reviewing them for hacking attempts, insider misuse, or data theft is impossible.\n",
    "So, this project uses a machine learning model called Isolation Forest to automatically flag unusual activity.\n",
    "\n",
    "How Does the Code Detect Anomalies?\n",
    "\n",
    "Let’s break it down step-by-step:\n",
    "Data Input\n",
    "A dataset contains access log data like timestamp, IP address, action, resource accessed, etc.\n",
    "Feature Extraction\n",
    "From timestamp, we extract hour and day of the week\n",
    "We convert categorical data like action, resource, and IP into numerical codes using LabelEncoder\n",
    "\n",
    "Model Used: Isolation Forest\n",
    "This model is unsupervised, meaning it doesn’t need pre-labeled data.\n",
    "It works by randomly isolating points in the dataset.\n",
    "Points that are isolated quickly (in fewer steps) are considered anomalies.\n",
    "\n",
    "Used By:\n",
    "Companies like Google, AWS, Microsoft Azure use similar methods at scale\n",
    "Banks, Hospitals, Universities with large user bases and sensitive data\n",
    "Startups monitoring product abuse or account takeovers\n",
    "\n",
    "Why Isolation Forest?\n",
    "Works well on small or big data\n",
    "Doesn’t need labeled data (most logs don’t have “this is a hack” labels)\n",
    "Fast and lightweight\n",
    "Easy to explain to non-tech teams\n",
    "\n",
    "Final Thoughts\n",
    "By detecting anomalies automatically, this project helps in:\n",
    "Reducing human workload on reviewing logs\n",
    "Preventing data breaches\n",
    "Saving time and money\n",
    "Building trust with customers that your system is secure"
   ]
  },
  {
   "cell_type": "code",
   "execution_count": 4,
   "id": "2625d64a-0f58-4c06-90fa-1b4e67847303",
   "metadata": {},
   "outputs": [
    {
     "data": {
      "image/png": "[encoded data removed]",
      "text/plain": [
       "<Figure size 640x480 with 1 Axes>"
      ]
     },
     "metadata": {},
     "output_type": "display_data"
    }
   ],
   "source": [
    "\n",
    "# Importing the libraries\n",
    "import pandas as pd\n",
    "import matplotlib.pyplot as plt\n",
    "import seaborn as sns\n",
    "from sklearn.ensemble import IsolationForest\n",
    "from sklearn.preprocessing import LabelEncoder\n",
    "\n",
    "# Load the Excel file\n",
    "df = pd.read_excel(\"C:/access_log_anomaly_detected.xlsx\")\n",
    "\n",
    "# Timestamp conversion\n",
    "df['timestamp'] = pd.to_datetime(df['timestamp'])\n",
    "df['hour'] = df['timestamp'].dt.hour\n",
    "df['day_of_week'] = df['timestamp'].dt.dayofweek\n",
    "\n",
    "# Encode categorical variables\n",
    "le_action = LabelEncoder()\n",
    "le_resource = LabelEncoder()\n",
    "le_ip = LabelEncoder()\n",
    "\n",
    "df['action_encoded'] = le_action.fit_transform(df['action'])\n",
    "df['resource_encoded'] = le_resource.fit_transform(df['resource'])\n",
    "df['ip_encoded'] = le_ip.fit_transform(df['ip_address'])\n",
    "\n",
    "# Features and model\n",
    "features = df[['hour', 'day_of_week', 'action_encoded', 'resource_encoded', 'ip_encoded', 'status_code']]\n",
    "model = IsolationForest(n_estimators=100, contamination=0.2, random_state=42)\n",
    "df['anomaly_score'] = model.fit_predict(features)\n",
    "df['predicted_anomaly'] = df['anomaly_score'].apply(lambda x: 1 if x == -1 else 0)\n",
    "\n",
    "# Visualize anomaly count\n",
    "sns.countplot(x='predicted_anomaly', data=df)\n",
    "plt.title('Anomaly Count (0 = Normal, 1 = Anomaly)')\n",
    "plt.show()\n",
    "\n",
    "# Save results\n",
    "df.to_excel(\"access_log_anomaly_detected.xlsx\", index=False)"
   ]
  },
  {
   "cell_type": "raw",
   "id": "07199b2c-5d93-4901-a861-1b6697b134e5",
   "metadata": {},
   "source": [
    "Output\n",
    "The model returns either 1 (normal) or -1 (anomaly)\n",
    "We convert this to predicted_anomaly = 1 (anomaly) or 0 (normal)\n",
    "These results are saved back to Excel and visualized using charts.\n",
    "\n",
    "How Is This Useful in Real Life?\n",
    "This project is not just theoretical — it solves a real-world cybersecurity and operations problem.\n",
    "\n",
    "Use Cases:\n",
    "Cybersecurity Monitoring\n",
    "Detects unusual login attempts (e.g., too many logins from a single IP, failed logins, or odd access hours)\n",
    "Can identify IPs scanning your network (potential hackers)\n",
    "Fraud Detection\n",
    "In banking or e-commerce, detects weird transaction behavior (wrong timing, wrong resource access)\n",
    "Insider Threats\n",
    "Employees downloading sensitive files they usually never touch\n",
    "System Health & Abuse Detection\n",
    "Monitoring for bots or users abusing APIs or uploading too much data"
   ]
  }
 ],
 "metadata": {
  "kernelspec": {
   "display_name": "Python 3 (ipykernel)",
   "language": "python",
   "name": "python3"
  },
  "language_info": {
   "codemirror_mode": {
    "name": "ipython",
    "version": 3
   },
   "file_extension": ".py",
   "mimetype": "text/x-python",
   "name": "python",
   "nbconvert_exporter": "python",
   "pygments_lexer": "ipython3",
   "version": "3.12.4"
  }
 },
 "nbformat": 4,
 "nbformat_minor": 5
}
